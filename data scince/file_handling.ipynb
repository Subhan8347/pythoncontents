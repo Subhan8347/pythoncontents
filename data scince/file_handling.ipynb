{
 "cells": [
  {
   "cell_type": "code",
   "execution_count": 1,
   "metadata": {},
   "outputs": [
    {
     "name": "stdout",
     "output_type": "stream",
     "text": [
      "import streamlit as st\n",
      "import pandas as pd\n",
      "import plotly.express as px\n",
      "\n",
      "sidebar = st.sidebar\n",
      "\n",
      "sidebar.title(\"Sidebar Title Here\")\n",
      "btn1 = sidebar.button(\"Get Balloons\")\n",
      "\n",
      "if btn1:\n",
      "    st.balloons()\n",
      "\n",
      "st.title(\"Streamlit App\")\n",
      "name = st.text_input(\"Enter your name\")\n",
      "btn = st.button(\"Submit\")\n",
      "\n",
      "if btn:\n",
      "    st.text(f\"You entered name {name}\")\n",
      "\n",
      "\n",
      "st.image('coin.jpg', use_column_width=True)\n",
      "\n",
      "df = pd.read_csv('Pokemon.csv')\n",
      "\n",
      "\n",
      "st.dataframe(df)\n",
      "fig = px.bar(data_frame=df, x='Name', y='Speed', color='Type 1')\n",
      "st.plotly_chart(fig, use_container_width=True)\n"
     ]
    }
   ],
   "source": [
    "with open ('app.py') as contents:\n",
    "    print(contents.read())"
   ]
  }
 ],
 "metadata": {
  "interpreter": {
   "hash": "63fd5069d213b44bf678585dea6b12cceca9941eaf7f819626cde1f2670de90d"
  },
  "kernelspec": {
   "display_name": "Python 3.9.7 64-bit",
   "name": "python3"
  },
  "language_info": {
   "codemirror_mode": {
    "name": "ipython",
    "version": 3
   },
   "file_extension": ".py",
   "mimetype": "text/x-python",
   "name": "python",
   "nbconvert_exporter": "python",
   "pygments_lexer": "ipython3",
   "version": "3.9.7"
  },
  "orig_nbformat": 4
 },
 "nbformat": 4,
 "nbformat_minor": 2
}
